{
 "cells": [
  {
   "cell_type": "code",
   "execution_count": 12,
   "id": "98397651",
   "metadata": {},
   "outputs": [],
   "source": [
    "class Node:\n",
    "    def __init__(self,key):\n",
    "        self.lchild = None\n",
    "        self.rchild = None\n",
    "        self.val = key\n",
    "\n",
    "def inorder(root):\n",
    "    if(root):\n",
    "        inorder(root.lchild)\n",
    "        print(root.val,end = \" \")\n",
    "        inorder(root.rchild)\n",
    "        \n",
    "def preorder(root):\n",
    "    if(root):\n",
    "        print(root.val,end = \" \")\n",
    "        preorder(root.lchild)\n",
    "        preorder(root.rchild)\n",
    "        \n",
    "def postorder(root):\n",
    "    if(root):\n",
    "        postorder(root.lchild)\n",
    "        postorder(root.rchild)\n",
    "        print(root.val,end = \" \")"
   ]
  },
  {
   "cell_type": "code",
   "execution_count": 13,
   "id": "da790a16",
   "metadata": {},
   "outputs": [
    {
     "name": "stdout",
     "output_type": "stream",
     "text": [
      "Inorder: \n",
      "4 10 12 15 18 22 24 25 31 35 44 50 66 70 90 \n",
      "Preorder: \n",
      "25 15 10 4 12 22 18 24 50 35 31 44 70 66 90 \n",
      "Postorder: \n",
      "4 12 10 18 24 22 15 31 44 35 66 90 70 50 25 "
     ]
    }
   ],
   "source": [
    "if __name__ == \"__main__\":\n",
    "    root = Node(25)\n",
    "    root.lchild = Node(15)\n",
    "    root.rchild = Node(50)\n",
    "    root.lchild.rchild = Node(22)\n",
    "    root.lchild.lchild = Node(10)\n",
    "    root.lchild.lchild.rchild = Node(12)\n",
    "    root.lchild.lchild.lchild = Node(4)\n",
    "    root.lchild.rchild.rchild = Node(24)\n",
    "    root.lchild.rchild.lchild = Node(18)\n",
    "    root.rchild.rchild = Node(70)\n",
    "    root.rchild.lchild = Node(35)\n",
    "    root.rchild.lchild.rchild = Node(44)\n",
    "    root.rchild.lchild.lchild = Node(31)\n",
    "    root.rchild.rchild.rchild = Node(90)\n",
    "    root.rchild.rchild.lchild = Node(66)\n",
    "    print(\"Inorder: \")\n",
    "    inorder(root)\n",
    "    print()\n",
    "    print(\"Preorder: \")\n",
    "    preorder(root)\n",
    "    print()\n",
    "    print(\"Postorder: \")\n",
    "    postorder(root)"
   ]
  },
  {
   "cell_type": "raw",
   "id": "36082baa",
   "metadata": {},
   "source": []
  },
  {
   "cell_type": "code",
   "execution_count": null,
   "id": "6b15ad84",
   "metadata": {},
   "outputs": [],
   "source": []
  }
 ],
 "metadata": {
  "kernelspec": {
   "display_name": "Python 3 (ipykernel)",
   "language": "python",
   "name": "python3"
  },
  "language_info": {
   "codemirror_mode": {
    "name": "ipython",
    "version": 3
   },
   "file_extension": ".py",
   "mimetype": "text/x-python",
   "name": "python",
   "nbconvert_exporter": "python",
   "pygments_lexer": "ipython3",
   "version": "3.10.6"
  }
 },
 "nbformat": 4,
 "nbformat_minor": 5
}
