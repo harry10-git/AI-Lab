{
 "cells": [
  {
   "cell_type": "code",
   "execution_count": 3,
   "id": "d62eddb0",
   "metadata": {},
   "outputs": [
    {
     "name": "stdout",
     "output_type": "stream",
     "text": [
      "Enter number of points: 3\n",
      "Enter points for A\n",
      "Enter x-0: 1\n",
      "Enter y-0: 2\n",
      "Enter z-0: 3\n",
      "Enter points for A\n",
      "Enter x-1: 3\n",
      "Enter y-1: 1\n",
      "Enter z-1: 4\n",
      "Enter points for A\n",
      "Enter x-2: 0\n",
      "Enter y-2: 0\n",
      "Enter z-2: 0\n",
      "[[1, 2, 3], [3, 1, 4], [0, 0, 0]]\n",
      "Enter points for B\n",
      "Enter x-0: 1\n",
      "Enter y-0: 7\n",
      "Enter z-0: 8\n",
      "Enter points for B\n",
      "Enter x-1: 3\n",
      "Enter y-1: 4\n",
      "Enter z-1: 2\n",
      "Enter points for B\n",
      "Enter x-2: 0\n",
      "Enter y-2: 0\n",
      "Enter z-2: 0\n",
      "[[1, 7, 8], [3, 4, 2], [0, 0, 0]]\n"
     ]
    }
   ],
   "source": [
    "p = (int(input(\"Enter number of points: \")))\n",
    "A = []\n",
    "B = []\n",
    "for i in range(p):\n",
    "    t = []\n",
    "    print(\"Enter points for A\")\n",
    "    t.append(int(input(f\"Enter x-{i}: \")))\n",
    "    t.append(int(input(f\"Enter y-{i}: \")))\n",
    "    t.append(int(input(f\"Enter z-{i}: \")))\n",
    "    A.append(t)\n",
    "print(A)\n",
    "for i in range(p):\n",
    "    t = []\n",
    "    print(\"Enter points for B\")\n",
    "    t.append(int(input(f\"Enter x-{i}: \")))\n",
    "    t.append(int(input(f\"Enter y-{i}: \")))\n",
    "    t.append(int(input(f\"Enter z-{i}: \")))\n",
    "    B.append(t)   \n",
    "print(B)"
   ]
  },
  {
   "cell_type": "code",
   "execution_count": 7,
   "id": "b4109fb4",
   "metadata": {},
   "outputs": [
    {
     "name": "stdout",
     "output_type": "stream",
     "text": [
      "1 1\n",
      "2 7\n",
      "3 8\n",
      "3 3\n",
      "1 4\n",
      "4 2\n",
      "0 0\n",
      "0 0\n",
      "0 0\n",
      "[25.0, 6.5, 0.0]\n"
     ]
    }
   ],
   "source": [
    "ed = []\n",
    "for i in range(p):\n",
    "    sum = 0\n",
    "    for j in range(3):\n",
    "        print(A[i][j],B[i][j])\n",
    "        sum+=(((A[i][j])- (B[i][j]))**2)\n",
    "    ed.append(sum**1/2)\n",
    "print(ed)"
   ]
  },
  {
   "cell_type": "code",
   "execution_count": 8,
   "id": "440ecb10",
   "metadata": {},
   "outputs": [
    {
     "name": "stdout",
     "output_type": "stream",
     "text": [
      "[0.0, 6.5, 25.0]\n"
     ]
    }
   ],
   "source": [
    "for i in range(p-1):\n",
    "    for j in range(p-i-1):\n",
    "        if(ed[j]>ed[j+1]):\n",
    "            ed[j],ed[j+1] = ed[j+1],ed[j]\n",
    "print(ed)"
   ]
  },
  {
   "cell_type": "code",
   "execution_count": null,
   "id": "312dd7ee",
   "metadata": {},
   "outputs": [],
   "source": []
  }
 ],
 "metadata": {
  "kernelspec": {
   "display_name": "Python 3 (ipykernel)",
   "language": "python",
   "name": "python3"
  },
  "language_info": {
   "codemirror_mode": {
    "name": "ipython",
    "version": 3
   },
   "file_extension": ".py",
   "mimetype": "text/x-python",
   "name": "python",
   "nbconvert_exporter": "python",
   "pygments_lexer": "ipython3",
   "version": "3.10.6"
  }
 },
 "nbformat": 4,
 "nbformat_minor": 5
}
