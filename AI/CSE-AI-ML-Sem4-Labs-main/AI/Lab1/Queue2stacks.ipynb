{
 "cells": [
  {
   "cell_type": "code",
   "execution_count": 18,
   "id": "73dc4133",
   "metadata": {},
   "outputs": [],
   "source": [
    "class Stack: \n",
    "    def __init__(self): \n",
    "        self.items = [] \n",
    "     \n",
    "    def push(self, item): \n",
    "        self.items.append(item) \n",
    "        \n",
    "    def pop(self): \n",
    "        return self.items.pop() if self.items else None   \n",
    "\n",
    "    def top(self): \n",
    "        return self.items[-1] if self.items else None \n",
    "    \n",
    "    def display(self):\n",
    "        for i in self.items:\n",
    "            print(i,end = \" \")\n",
    "\n",
    "    def is_empty(self): \n",
    "        return not self.items "
   ]
  },
  {
   "cell_type": "code",
   "execution_count": 25,
   "id": "9109879b",
   "metadata": {},
   "outputs": [
    {
     "name": "stdout",
     "output_type": "stream",
     "text": [
      "Enqueue of 1-10 into queue: \n",
      "Queue contents: \n",
      "1 2 3 4 5 6 7 8 9 10 None\n",
      "Removing 5 elements from queue: \n",
      "Dequeue:  1\n",
      "Dequeue:  2\n",
      "Dequeue:  3\n",
      "Dequeue:  4\n",
      "Dequeue:  5\n",
      "Queue contents: \n",
      "6 7 8 9 10 None\n"
     ]
    }
   ],
   "source": [
    "if __name__ == \"__main__\":\n",
    "    stk1 = Stack()\n",
    "    stk2 = Stack()\n",
    "    print(\"Enqueue of 1-10 into queue: \")\n",
    "    for i in range(1, 11):\n",
    "        stk1.push(i)\n",
    "    print(\"Queue contents: \")\n",
    "    print(stk1.display())\n",
    "    print(\"Removing 5 elements from queue: \")\n",
    "    for i in range(10):\n",
    "        stk2.push(stk1.pop())\n",
    "    for i in range(5):\n",
    "        print(\"Dequeue: \",stk2.pop())\n",
    "    for i in range(10-5):\n",
    "        stk1.push(stk2.pop())\n",
    "    print(\"Queue contents: \")\n",
    "    print(stk1.display())"
   ]
  },
  {
   "cell_type": "code",
   "execution_count": null,
   "id": "1c57b983",
   "metadata": {},
   "outputs": [],
   "source": []
  }
 ],
 "metadata": {
  "kernelspec": {
   "display_name": "Python 3 (ipykernel)",
   "language": "python",
   "name": "python3"
  },
  "language_info": {
   "codemirror_mode": {
    "name": "ipython",
    "version": 3
   },
   "file_extension": ".py",
   "mimetype": "text/x-python",
   "name": "python",
   "nbconvert_exporter": "python",
   "pygments_lexer": "ipython3",
   "version": "3.10.6"
  }
 },
 "nbformat": 4,
 "nbformat_minor": 5
}
