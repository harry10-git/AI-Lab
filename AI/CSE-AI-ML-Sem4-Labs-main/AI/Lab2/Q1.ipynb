{
 "cells": [
  {
   "cell_type": "markdown",
   "id": "2c41b9a3",
   "metadata": {},
   "source": [
    "Consider a situation where there is a single teller in a bank who can assist customers with their transactions. When a customer arrives at the bank, they join the end of a queue to wait for the teller. When the teller is available, they assist the first customer in the queue and remove them from the queue.\n",
    "\n",
    "Customer class is defined to store information about each customer, such as their name and transaction. The Bank class is defined with a queue attribute to store instances of the Customer class, and methods to add customers to the queue (add_customer), serve the next customer in the queue (serve_customer), and check if the queue is empty (is_queue_empty). The code simulates customers arriving at the bank and being served by the teller. The teller serves customers in the order they arrive and removes them from the queue using the pop(0) method."
   ]
  },
  {
   "cell_type": "code",
   "execution_count": 33,
   "id": "2d3542aa",
   "metadata": {},
   "outputs": [
    {
     "name": "stdout",
     "output_type": "stream",
     "text": [
      "Customer added. Name:  Abc\n",
      "Customer added. Name:  Def\n",
      "Customer added. Name:  Ghi\n",
      "Abc is doing a  Deposit\n",
      "Customer added. Name:  Jkl\n",
      "Customer added. Name:  Mno\n",
      "Def is doing a  Withdrawal\n",
      "Ghi is doing a  Withdrawal\n",
      "Jkl is doing a  Deposit\n",
      "Mno is doing a  Withdrawal\n",
      "Queue Empty\n"
     ]
    }
   ],
   "source": [
    "class Customer: \n",
    "    def init(self,list):\n",
    "        self.name = list[0]\n",
    "        self.transaction = list[1]\n",
    "\n",
    "class Bank:\n",
    "    global queue\n",
    "    queue = []\n",
    "        \n",
    "    def add_customer(self,list):\n",
    "        c = Customer()\n",
    "        c.init(list)\n",
    "        queue.append(c)\n",
    "        print(\"Customer added. Name: \",c.name)\n",
    "        \n",
    "    def serve_customer(self):\n",
    "        if len(queue)!=0:\n",
    "            c = queue[0]\n",
    "            print(c.name,\"is doing a \",c.transaction)\n",
    "            queue.pop(0)\n",
    "        else:\n",
    "            print(\"Queue Empty\")\n",
    "\n",
    "b = Bank()\n",
    "b.add_customer([\"Abc\",\"Deposit\"])\n",
    "b.add_customer([\"Def\",\"Withdrawal\"])\n",
    "b.add_customer([\"Ghi\",\"Withdrawal\"])\n",
    "b.serve_customer()\n",
    "b.add_customer([\"Jkl\",\"Deposit\"])\n",
    "b.add_customer([\"Mno\",\"Withdrawal\"])\n",
    "b.serve_customer()\n",
    "b.serve_customer()\n",
    "b.serve_customer()\n",
    "b.serve_customer()\n",
    "b.serve_customer()"
   ]
  },
  {
   "cell_type": "code",
   "execution_count": null,
   "id": "053d769d",
   "metadata": {},
   "outputs": [],
   "source": []
  }
 ],
 "metadata": {
  "kernelspec": {
   "display_name": "Python 3 (ipykernel)",
   "language": "python",
   "name": "python3"
  },
  "language_info": {
   "codemirror_mode": {
    "name": "ipython",
    "version": 3
   },
   "file_extension": ".py",
   "mimetype": "text/x-python",
   "name": "python",
   "nbconvert_exporter": "python",
   "pygments_lexer": "ipython3",
   "version": "3.10.6"
  }
 },
 "nbformat": 4,
 "nbformat_minor": 5
}
