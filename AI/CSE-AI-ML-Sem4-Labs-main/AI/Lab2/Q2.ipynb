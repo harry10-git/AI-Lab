{
 "cells": [
  {
   "cell_type": "code",
   "execution_count": 3,
   "id": "05b800a8",
   "metadata": {},
   "outputs": [
    {
     "name": "stdout",
     "output_type": "stream",
     "text": [
      "( 0  ->  1 ) \n",
      "( 1  ->  2 ) \n",
      "( 2  ->  0 ) ( 2  ->  1 ) \n",
      "( 3  ->  2 ) \n",
      "( 4  ->  5 ) \n",
      "( 5  ->  4 ) \n"
     ]
    }
   ],
   "source": [
    "def add_vertex(v):\n",
    "  global graph\n",
    "  if v in graph:\n",
    "    print(\"Vertex \", v, \" already exists.\")\n",
    "  else:\n",
    "    graph[v] = []\n",
    "\n",
    "def add_edge(v1, v2):\n",
    "    temp = v2\n",
    "    graph[v1].append(temp)\n",
    "\n",
    "def print_graph():\n",
    "  global graph\n",
    "  for vertex in graph:\n",
    "    for edges in graph[vertex]:\n",
    "      print(\"(\",vertex, \" -> \", edges,\")\" , end = \" \")\n",
    "    print()\n",
    "\n",
    "graph = {}\n",
    "add_vertex(0),add_vertex(1),add_vertex(2),add_vertex(3),add_vertex(4),add_vertex(5)\n",
    "add_edge(0, 1)\n",
    "add_edge(1, 2)\n",
    "add_edge(2, 0)\n",
    "add_edge(2, 1)\n",
    "add_edge(3, 2)\n",
    "add_edge(4, 5)\n",
    "add_edge(5, 4)\n",
    "print_graph()"
   ]
  },
  {
   "cell_type": "code",
   "execution_count": null,
   "id": "98b0eee5",
   "metadata": {},
   "outputs": [],
   "source": []
  }
 ],
 "metadata": {
  "kernelspec": {
   "display_name": "Python 3 (ipykernel)",
   "language": "python",
   "name": "python3"
  },
  "language_info": {
   "codemirror_mode": {
    "name": "ipython",
    "version": 3
   },
   "file_extension": ".py",
   "mimetype": "text/x-python",
   "name": "python",
   "nbconvert_exporter": "python",
   "pygments_lexer": "ipython3",
   "version": "3.10.6"
  }
 },
 "nbformat": 4,
 "nbformat_minor": 5
}
