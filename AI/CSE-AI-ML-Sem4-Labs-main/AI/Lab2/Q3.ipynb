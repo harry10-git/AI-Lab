{
 "cells": [
  {
   "cell_type": "code",
   "execution_count": 7,
   "id": "9b440812",
   "metadata": {},
   "outputs": [
    {
     "name": "stdout",
     "output_type": "stream",
     "text": [
      "( 0 -> 1 , 6 ) \n",
      "( 1 -> 2 , 7 ) \n",
      "( 2 -> 0 , 5 ) ( 2 -> 1 , 4 ) \n",
      "( 3 -> 2 , 10 ) \n",
      "( 4 -> 5 , 3 ) \n",
      "( 5 -> 4 , 1 ) \n",
      "{0: [[1, 6]], 1: [[2, 7]], 2: [[0, 5], [1, 4]], 3: [[2, 10]], 4: [[5, 3]], 5: [[4, 1]]}\n"
     ]
    }
   ],
   "source": [
    "def add_vertex(v):\n",
    "  global graph\n",
    "  if v in graph:\n",
    "    print(\"Vertex \", v, \" already exists.\")\n",
    "  else:\n",
    "    graph[v] = []\n",
    "\n",
    "def add_edge(v1, v2, e):\n",
    "    temp = [v2, e]\n",
    "    graph[v1].append(temp)\n",
    "\n",
    "def print_graph():\n",
    "  global graph\n",
    "  for vertex in graph:\n",
    "    for edges in graph[vertex]:\n",
    "      print(\"(\", vertex, \"->\", edges[0],\",\",edges[1], \")\",end = \" \")\n",
    "    print()\n",
    "\n",
    "graph = {}\n",
    "add_vertex(0)\n",
    "add_vertex(1)\n",
    "add_vertex(2)\n",
    "add_vertex(3)\n",
    "add_vertex(4)\n",
    "add_vertex(5)\n",
    "add_edge(0, 1, 6)\n",
    "add_edge(1, 2, 7)\n",
    "add_edge(2, 0, 5)\n",
    "add_edge(2, 1, 4)\n",
    "add_edge(3, 2, 10)\n",
    "add_edge(4, 5, 3)\n",
    "add_edge(5, 4, 1)\n",
    "print_graph()\n"
   ]
  },
  {
   "cell_type": "code",
   "execution_count": null,
   "id": "10ecfc4c",
   "metadata": {},
   "outputs": [],
   "source": []
  }
 ],
 "metadata": {
  "kernelspec": {
   "display_name": "Python 3 (ipykernel)",
   "language": "python",
   "name": "python3"
  },
  "language_info": {
   "codemirror_mode": {
    "name": "ipython",
    "version": 3
   },
   "file_extension": ".py",
   "mimetype": "text/x-python",
   "name": "python",
   "nbconvert_exporter": "python",
   "pygments_lexer": "ipython3",
   "version": "3.10.6"
  }
 },
 "nbformat": 4,
 "nbformat_minor": 5
}
