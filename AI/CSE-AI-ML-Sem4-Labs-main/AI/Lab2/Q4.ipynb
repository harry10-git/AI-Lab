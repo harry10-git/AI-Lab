{
 "cells": [
  {
   "cell_type": "code",
   "execution_count": null,
   "id": "c9fd5022",
   "metadata": {},
   "outputs": [],
   "source": []
  },
  {
   "cell_type": "code",
   "execution_count": 15,
   "id": "f6db3159",
   "metadata": {},
   "outputs": [
    {
     "name": "stdout",
     "output_type": "stream",
     "text": [
      "[[0, 1, 1, 0, 1], [1, 0, 1, 0, 0], [1, 1, 0, 1, 1], [0, 0, 1, 0, 0], [1, 0, 1, 0, 0]]\n",
      "{'A': ['B', 'C', 'E'], 'B': ['A', 'C'], 'C': ['B', 'A', 'D', 'E'], 'D': ['C'], 'E': ['C', 'A']}\n"
     ]
    }
   ],
   "source": [
    "def add_vertex(v):\n",
    "    global graph\n",
    "    if v in graph:\n",
    "        print(v, \" already exists\")\n",
    "    else:\n",
    "        graph[v] = []\n",
    "        \n",
    "def add_edge(v1,v2):\n",
    "    temp = v2\n",
    "    graph[v1].append(temp)\n",
    "    temp = v1\n",
    "    graph[v2].append(temp)\n",
    "\n",
    "def adjmatrix():\n",
    "    matrix = []\n",
    "    for vertex in graph:\n",
    "        list = []\n",
    "        if \"A\" in graph[vertex]:\n",
    "            list.append(1)\n",
    "        else:\n",
    "            list.append(0)\n",
    "            \n",
    "        if \"B\" in graph[vertex]:\n",
    "            list.append(1)\n",
    "        else:\n",
    "            list.append(0)\n",
    "            \n",
    "        if \"C\" in graph[vertex]:\n",
    "            list.append(1)\n",
    "        else:\n",
    "            list.append(0)\n",
    "            \n",
    "        if \"D\" in graph[vertex]:\n",
    "            list.append(1)\n",
    "        else:\n",
    "            list.append(0)\n",
    "            \n",
    "        if \"E\" in graph[vertex]:\n",
    "            list.append(1)\n",
    "        else:\n",
    "            list.append(0)\n",
    "        matrix.append(list)\n",
    "    return matrix\n",
    "        \n",
    "graph = {}\n",
    "add_vertex(\"A\")\n",
    "add_vertex(\"B\")\n",
    "add_vertex(\"C\")\n",
    "add_vertex(\"D\")\n",
    "add_vertex(\"E\")\n",
    "add_edge(\"A\",\"B\")\n",
    "add_edge(\"B\",\"C\")\n",
    "add_edge(\"A\",\"C\")\n",
    "add_edge(\"D\",\"C\")\n",
    "add_edge(\"C\",\"E\")\n",
    "add_edge(\"A\",\"E\")\n",
    "\n",
    "\n",
    "print(adjmatrix())\n",
    "print(graph)"
   ]
  },
  {
   "cell_type": "code",
   "execution_count": null,
   "id": "cc25f4f6",
   "metadata": {},
   "outputs": [],
   "source": []
  }
 ],
 "metadata": {
  "kernelspec": {
   "display_name": "Python 3 (ipykernel)",
   "language": "python",
   "name": "python3"
  },
  "language_info": {
   "codemirror_mode": {
    "name": "ipython",
    "version": 3
   },
   "file_extension": ".py",
   "mimetype": "text/x-python",
   "name": "python",
   "nbconvert_exporter": "python",
   "pygments_lexer": "ipython3",
   "version": "3.10.6"
  }
 },
 "nbformat": 4,
 "nbformat_minor": 5
}
