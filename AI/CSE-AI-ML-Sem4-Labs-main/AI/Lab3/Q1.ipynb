{
 "cells": [
  {
   "cell_type": "code",
   "execution_count": 6,
   "id": "eeb20583",
   "metadata": {},
   "outputs": [],
   "source": [
    "def add_vertex(v):\n",
    "  global graph\n",
    "  if v in graph:\n",
    "    print(\"Vertex \", v, \" already exists.\")\n",
    "  else:\n",
    "    graph[v] = []\n",
    "\n",
    "def add_edge(v1, v2):\n",
    "    temp = v2\n",
    "    graph[v1].append(temp)\n",
    "\n",
    "graph = {}\n",
    "add_vertex(0),add_vertex(1),add_vertex(2),add_vertex(3),add_vertex(4),add_vertex(5)\n",
    "add_edge(5,0)\n",
    "add_edge(5,2)\n",
    "add_edge(4,0)\n",
    "add_edge(4,1)\n",
    "add_edge(2,3)\n",
    "add_edge(3,1)"
   ]
  },
  {
   "cell_type": "code",
   "execution_count": 7,
   "id": "28af61c0",
   "metadata": {},
   "outputs": [],
   "source": [
    "def DFS(G,v,visited):\n",
    "    if v not in visited:\n",
    "        visited.append(v)\n",
    "        for k in graph[v]:\n",
    "            DFS(graph,k,visited)\n",
    "    return visited"
   ]
  },
  {
   "cell_type": "code",
   "execution_count": 8,
   "id": "f286a752",
   "metadata": {},
   "outputs": [
    {
     "name": "stdout",
     "output_type": "stream",
     "text": [
      "[5, 0, 2, 3, 1, 4]\n"
     ]
    }
   ],
   "source": [
    "visited = DFS(graph,5,[])\n",
    "visited = DFS(graph,4,visited) \n",
    "print(visited)"
   ]
  },
  {
   "cell_type": "code",
   "execution_count": null,
   "id": "21c581b1",
   "metadata": {},
   "outputs": [],
   "source": []
  },
  {
   "cell_type": "code",
   "execution_count": null,
   "id": "9184f3e1",
   "metadata": {},
   "outputs": [],
   "source": []
  }
 ],
 "metadata": {
  "kernelspec": {
   "display_name": "Python 3 (ipykernel)",
   "language": "python",
   "name": "python3"
  },
  "language_info": {
   "codemirror_mode": {
    "name": "ipython",
    "version": 3
   },
   "file_extension": ".py",
   "mimetype": "text/x-python",
   "name": "python",
   "nbconvert_exporter": "python",
   "pygments_lexer": "ipython3",
   "version": "3.9.13"
  }
 },
 "nbformat": 4,
 "nbformat_minor": 5
}
