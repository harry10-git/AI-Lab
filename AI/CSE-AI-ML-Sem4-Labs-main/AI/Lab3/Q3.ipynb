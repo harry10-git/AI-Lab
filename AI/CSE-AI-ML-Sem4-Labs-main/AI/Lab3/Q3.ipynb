{
 "cells": [
  {
   "cell_type": "code",
   "execution_count": 18,
   "id": "ffefb74a",
   "metadata": {},
   "outputs": [
    {
     "name": "stdout",
     "output_type": "stream",
     "text": [
      "{0: [], 1: [], 2: [3], 3: [1], 4: [0, 1], 5: [0, 2]}\n"
     ]
    }
   ],
   "source": [
    "def add_vertex(v):\n",
    "  global graph\n",
    "  if v in graph:\n",
    "    print(\"Vertex \", v, \" already exists.\")\n",
    "  else:\n",
    "    graph[v] = []\n",
    "\n",
    "def add_edge(v1, v2):\n",
    "    temp = v2\n",
    "    graph[v1].append(temp)\n",
    "\n",
    "graph = {}\n",
    "add_vertex(0),add_vertex(1),add_vertex(2),add_vertex(3),add_vertex(4),add_vertex(5)\n",
    "add_edge(5,0)\n",
    "add_edge(5,2)\n",
    "add_edge(4,0)\n",
    "add_edge(4,1)\n",
    "add_edge(2,3)\n",
    "add_edge(3,1)\n",
    "print(graph)"
   ]
  },
  {
   "cell_type": "code",
   "execution_count": 22,
   "id": "77c44ff1",
   "metadata": {},
   "outputs": [],
   "source": [
    "set1 = graph.keys()\n",
    "set2 = []\n",
    "for k in graph:\n",
    "    for i in graph.get(k):\n",
    "        if i not in set2:\n",
    "            set2.append(i)\n",
    "set3 = []\n",
    "for i in set1:\n",
    "    if i not in set2:\n",
    "        set3.append(i)\n",
    "\n",
    "queue = []\n",
    "        \n",
    "def BFS(G,v,visited):\n",
    "    if v not in visited:\n",
    "        queue.append(v)\n",
    "        visited[v] = True\n",
    "    for i in set3:\n",
    "        if i not in visited:\n",
    "            queue.append(i)\n",
    "            visited[i] = True\n",
    "    while queue:\n",
    "        pop = queue.pop(0)\n",
    "        print(pop , end = \" \")\n",
    "        for i in G.get(pop):\n",
    "            if i not in visited:\n",
    "                queue.append(i)\n",
    "                visited[i] = True\n",
    "    return visited"
   ]
  },
  {
   "cell_type": "code",
   "execution_count": 23,
   "id": "1d8fda38",
   "metadata": {},
   "outputs": [
    {
     "name": "stdout",
     "output_type": "stream",
     "text": [
      "5 4 0 2 1 3 {5: True, 4: True, 0: True, 2: True, 1: True, 3: True}\n"
     ]
    }
   ],
   "source": [
    "print(BFS(graph,5,{}))"
   ]
  },
  {
   "cell_type": "code",
   "execution_count": null,
   "id": "c0555a74",
   "metadata": {},
   "outputs": [],
   "source": []
  },
  {
   "cell_type": "code",
   "execution_count": null,
   "id": "9e497f99",
   "metadata": {},
   "outputs": [],
   "source": []
  },
  {
   "cell_type": "code",
   "execution_count": null,
   "id": "3e482bc2",
   "metadata": {},
   "outputs": [],
   "source": []
  }
 ],
 "metadata": {
  "kernelspec": {
   "display_name": "Python 3 (ipykernel)",
   "language": "python",
   "name": "python3"
  },
  "language_info": {
   "codemirror_mode": {
    "name": "ipython",
    "version": 3
   },
   "file_extension": ".py",
   "mimetype": "text/x-python",
   "name": "python",
   "nbconvert_exporter": "python",
   "pygments_lexer": "ipython3",
   "version": "3.9.13"
  }
 },
 "nbformat": 4,
 "nbformat_minor": 5
}
