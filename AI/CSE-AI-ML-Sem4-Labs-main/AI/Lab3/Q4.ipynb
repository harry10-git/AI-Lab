{
 "cells": [
  {
   "cell_type": "code",
   "execution_count": 15,
   "id": "20e15c5a",
   "metadata": {},
   "outputs": [
    {
     "name": "stdout",
     "output_type": "stream",
     "text": [
      "Cycle Exists\n"
     ]
    }
   ],
   "source": [
    "from collections import defaultdict\n",
    " \n",
    "class Graph:\n",
    "    def __init__(self,vertices):\n",
    "        self.graph=defaultdict(list)\n",
    "        self.V=vertices \n",
    "     \n",
    "    def addEdge(self,u,v):\n",
    "        self.graph[u].append(v)\n",
    " \n",
    "\n",
    "def isCycleExist(n,graph):\n",
    "    in_degree=[0]*n\n",
    "    for i in range(n):\n",
    "        for j in graph[i]:\n",
    "            in_degree[j]+=1\n",
    "    queue=[]\n",
    "    for i in range(len(in_degree)):\n",
    "        if in_degree[i]==0:\n",
    "            queue.append(i)\n",
    "    cnt=0\n",
    "    while(queue):\n",
    "        nu=queue.pop(0)\n",
    "        for v in graph[nu]:\n",
    "            in_degree[v]-=1\n",
    "            if in_degree[v]==0:\n",
    "                queue.append(v)\n",
    "        cnt+=1\n",
    "    if cnt==n:\n",
    "        return False\n",
    "    else:\n",
    "        return True\n",
    "         \n",
    "if __name__=='__main__':\n",
    " \n",
    "    g=Graph(4)\n",
    "    g.addEdge(0,1)\n",
    "    g.addEdge(1,2)\n",
    "    g.addEdge(2,0)\n",
    "    g.addEdge(3,3)\n",
    "    g.addEdge(2,3)\n",
    "    g.addEdge(0,2)\n",
    "    if isCycleExist(g.V,g.graph):\n",
    "        print(\"Cycle Exists\")\n",
    "    else:\n",
    "        print(\"No Cycle\")"
   ]
  },
  {
   "cell_type": "code",
   "execution_count": null,
   "id": "6baa2f53",
   "metadata": {},
   "outputs": [],
   "source": []
  }
 ],
 "metadata": {
  "kernelspec": {
   "display_name": "Python 3 (ipykernel)",
   "language": "python",
   "name": "python3"
  },
  "language_info": {
   "codemirror_mode": {
    "name": "ipython",
    "version": 3
   },
   "file_extension": ".py",
   "mimetype": "text/x-python",
   "name": "python",
   "nbconvert_exporter": "python",
   "pygments_lexer": "ipython3",
   "version": "3.9.13"
  }
 },
 "nbformat": 4,
 "nbformat_minor": 5
}
