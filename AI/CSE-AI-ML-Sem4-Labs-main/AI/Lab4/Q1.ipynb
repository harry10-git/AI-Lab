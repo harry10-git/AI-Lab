{
 "cells": [
  {
   "cell_type": "code",
   "execution_count": null,
   "id": "c6f17c31",
   "metadata": {},
   "outputs": [],
   "source": [
    "from queue import PriorityQueue\n",
    "\n",
    "def uniformcostsearch(graph,start,goal):\n",
    "    visited = set()\n",
    "    queue = PriorityQueue()\n",
    "    queue.put((0,start,[]))\n",
    "    while not queue.empty():\n",
    "        (cost,node,path) = queue.get()\n",
    "        if node not in visited:\n",
    "            visited.add(node)\n",
    "            path = path + [node]\n",
    "            if node == goal:\n",
    "                return path,cost\n",
    "            for neighbour in graph[node]:\n",
    "                if neighbour not in visited:\n",
    "                    totalcost = cost + graph[node][neighbour]\n",
    "                    queue.put((totalcost,neighbour,path))\n",
    "    return None"
   ]
  },
  {
   "cell_type": "code",
   "execution_count": 17,
   "id": "8c2561da",
   "metadata": {},
   "outputs": [],
   "source": [
    "graph = {'S':{1:2,3:5},1:{'G':1},3:{'G':6,4:2},'G':{4:7},4:{5:3,2:4},5:{2:6,'G':3},2:{1:4}}"
   ]
  },
  {
   "cell_type": "code",
   "execution_count": 18,
   "id": "65235207",
   "metadata": {},
   "outputs": [],
   "source": [
    "start = 'S'\n",
    "goal = 'G'"
   ]
  },
  {
   "cell_type": "code",
   "execution_count": 19,
   "id": "06eb8479",
   "metadata": {},
   "outputs": [
    {
     "name": "stdout",
     "output_type": "stream",
     "text": [
      "Lowest cost path from node S to node G: ['S', 1, 'G']\n",
      "Total Cost: 3\n"
     ]
    }
   ],
   "source": [
    "path,cost = uniformcostsearch(graph,start,goal)\n",
    " \n",
    "if path is not None:\n",
    "    print(f\"Lowest cost path from node {start} to node {goal}: {path}\")\n",
    "    print(f\"Total Cost: {cost}\")\n",
    "else:\n",
    "    print(f\"No path from node {start} to node {goal}\")"
   ]
  },
  {
   "cell_type": "code",
   "execution_count": null,
   "id": "158af3bf",
   "metadata": {},
   "outputs": [],
   "source": []
  }
 ],
 "metadata": {
  "kernelspec": {
   "display_name": "Python 3 (ipykernel)",
   "language": "python",
   "name": "python3"
  },
  "language_info": {
   "codemirror_mode": {
    "name": "ipython",
    "version": 3
   },
   "file_extension": ".py",
   "mimetype": "text/x-python",
   "name": "python",
   "nbconvert_exporter": "python",
   "pygments_lexer": "ipython3",
   "version": "3.10.6"
  }
 },
 "nbformat": 4,
 "nbformat_minor": 5
}
