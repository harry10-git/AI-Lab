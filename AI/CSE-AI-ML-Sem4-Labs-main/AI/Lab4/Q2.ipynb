{
 "cells": [
  {
   "cell_type": "code",
   "execution_count": 27,
   "id": "cae34942",
   "metadata": {},
   "outputs": [],
   "source": [
    "from queue import PriorityQueue\n",
    "\n",
    "def uniformcostsearch(graph,start,goal):\n",
    "    visited = set()\n",
    "    queue = PriorityQueue()\n",
    "    queue.put((0,start,[]))\n",
    "    while not queue.empty():\n",
    "        (cost,node,path) = queue.get()\n",
    "        if node not in visited:\n",
    "            visited.add(node)\n",
    "            path = path + [node]\n",
    "            if node == goal:\n",
    "                return path,cost\n",
    "            for neighbour in graph[node]:\n",
    "                if neighbour not in visited:\n",
    "                    totalcost = cost + graph[node][neighbour]\n",
    "                    queue.put((totalcost,neighbour,path))\n",
    "    return None"
   ]
  },
  {
   "cell_type": "code",
   "execution_count": 28,
   "id": "d1eded01",
   "metadata": {},
   "outputs": [],
   "source": [
    "graph = {'a':{'b':6,'c':3},'b':{'c':1,'d':2},'c':{'b':4,'d':8,'e':2},'d':{'e':9},'e':{'d':7}}"
   ]
  },
  {
   "cell_type": "code",
   "execution_count": 33,
   "id": "4456e923",
   "metadata": {},
   "outputs": [],
   "source": [
    "start = 'a'\n",
    "goal = 'e'"
   ]
  },
  {
   "cell_type": "code",
   "execution_count": 34,
   "id": "4c5bf50a",
   "metadata": {},
   "outputs": [
    {
     "name": "stdout",
     "output_type": "stream",
     "text": [
      "Lowest cost path from node a to node e: ['a', 'c', 'e']\n",
      "Total Cost: 5\n"
     ]
    }
   ],
   "source": [
    "path,cost = uniformcostsearch(graph,start,goal)\n",
    "\n",
    "if path is not None:\n",
    "    print(f\"Lowest cost path from node {start} to node {goal}: {path}\")\n",
    "    print(f\"Total Cost: {cost}\")\n",
    "else:\n",
    "    print(f\"No path from node {start} to node {goal}\")"
   ]
  },
  {
   "cell_type": "code",
   "execution_count": null,
   "id": "c8615922",
   "metadata": {},
   "outputs": [],
   "source": []
  }
 ],
 "metadata": {
  "kernelspec": {
   "display_name": "Python 3 (ipykernel)",
   "language": "python",
   "name": "python3"
  },
  "language_info": {
   "codemirror_mode": {
    "name": "ipython",
    "version": 3
   },
   "file_extension": ".py",
   "mimetype": "text/x-python",
   "name": "python",
   "nbconvert_exporter": "python",
   "pygments_lexer": "ipython3",
   "version": "3.10.6"
  }
 },
 "nbformat": 4,
 "nbformat_minor": 5
}
