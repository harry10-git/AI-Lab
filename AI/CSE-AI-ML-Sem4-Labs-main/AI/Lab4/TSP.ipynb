{
 "cells": [
  {
   "cell_type": "code",
   "execution_count": 18,
   "id": "c66f5798",
   "metadata": {},
   "outputs": [],
   "source": [
    "graph = {'A': {'B': 2, 'C': 3, 'D': 1},\n",
    "    'B': {'A': 2, 'C': 4, 'D': 2},\n",
    "    'C': {'A': 3, 'B': 4, 'D': 3},\n",
    "    'D': {'A': 1, 'B': 2, 'C': 3}}"
   ]
  },
  {
   "cell_type": "code",
   "execution_count": 19,
   "id": "d4de3e7c",
   "metadata": {},
   "outputs": [],
   "source": [
    "queue = []\n",
    "cost = 0\n",
    "\n",
    "def BFS(G,v,visited):\n",
    "    if v not in visited:\n",
    "        queue.append(v)\n",
    "        visited[v] = True\n",
    "    while queue:\n",
    "        pop = queue.pop(0)\n",
    "        print(pop , end = \" \")\n",
    "        for i in G.get(pop):\n",
    "            if i not in visited:\n",
    "                queue.append(i)\n",
    "                visited[i] = True\n",
    "    return cost"
   ]
  },
  {
   "cell_type": "code",
   "execution_count": 20,
   "id": "aa275960",
   "metadata": {},
   "outputs": [
    {
     "name": "stdout",
     "output_type": "stream",
     "text": [
      "B A C D "
     ]
    }
   ],
   "source": [
    "cost = (BFS(graph,'B',{}))"
   ]
  },
  {
   "cell_type": "code",
   "execution_count": 21,
   "id": "c7ab2815",
   "metadata": {},
   "outputs": [
    {
     "name": "stdout",
     "output_type": "stream",
     "text": [
      "C A B D "
     ]
    }
   ],
   "source": [
    "cost = (BFS(graph,'C',{}))"
   ]
  },
  {
   "cell_type": "code",
   "execution_count": null,
   "id": "44ff421f",
   "metadata": {},
   "outputs": [],
   "source": []
  }
 ],
 "metadata": {
  "kernelspec": {
   "display_name": "Python 3 (ipykernel)",
   "language": "python",
   "name": "python3"
  },
  "language_info": {
   "codemirror_mode": {
    "name": "ipython",
    "version": 3
   },
   "file_extension": ".py",
   "mimetype": "text/x-python",
   "name": "python",
   "nbconvert_exporter": "python",
   "pygments_lexer": "ipython3",
   "version": "3.10.6"
  }
 },
 "nbformat": 4,
 "nbformat_minor": 5
}
