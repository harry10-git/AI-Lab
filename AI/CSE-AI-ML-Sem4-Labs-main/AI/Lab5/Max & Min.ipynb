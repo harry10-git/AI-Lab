{
 "cells": [
  {
   "cell_type": "code",
   "execution_count": 186,
   "id": "bb68ff7e",
   "metadata": {},
   "outputs": [],
   "source": [
    "import random\n",
    "def objective_function(x):\n",
    "    if x<=10 and x>=-10:\n",
    "        return x\n",
    "    else: return -100\n",
    "\n",
    "def Hill_Climbing_Search(starting_point,step_size,max_iteration):\n",
    "    current_point = starting_point\n",
    "    current_value = objective_function(current_point)\n",
    "    for i in range(max_iteration):\n",
    "        neighbour = current_point + step_size*(random.randint(-10,10))\n",
    "        neighbour_value = objective_function(neighbour)\n",
    "        if(neighbour_value > current_value) and neighbour_value!=-100:\n",
    "            current_point = neighbour\n",
    "            current_value = neighbour_value\n",
    "    return [current_point,current_value]"
   ]
  },
  {
   "cell_type": "code",
   "execution_count": 187,
   "id": "b034b08b",
   "metadata": {},
   "outputs": [
    {
     "name": "stdout",
     "output_type": "stream",
     "text": [
      "Current Value:  10.0\n",
      "Current Point:  10.0\n"
     ]
    }
   ],
   "source": [
    "result = Hill_Climbing_Search(8,-0.5,50)\n",
    "print(\"Current Value: \", result[0])\n",
    "print(\"Current Point: \", result[1])"
   ]
  },
  {
   "cell_type": "code",
   "execution_count": 207,
   "id": "01864716",
   "metadata": {},
   "outputs": [],
   "source": [
    "import random\n",
    "def objective_function(x):\n",
    "    return x**2\n",
    "\n",
    "def Hill_Climbing_Search(starting_point,step_size,max_iteration):\n",
    "    current_point = starting_point\n",
    "    current_value = objective_function(current_point)\n",
    "    for i in range(max_iteration):\n",
    "        neighbour = current_point + step_size*(random.random()*2-1)\n",
    "        neighbour_value = objective_function(neighbour) \n",
    "        if(neighbour_value > current_value):\n",
    "            current_point = neighbour\n",
    "            current_value = neighbour_value\n",
    "    return current_point,current_value"
   ]
  },
  {
   "cell_type": "code",
   "execution_count": 208,
   "id": "1bfe0cee",
   "metadata": {},
   "outputs": [],
   "source": [
    "result = Hill_Climbing_Search(8,0.5,50)"
   ]
  },
  {
   "cell_type": "code",
   "execution_count": 209,
   "id": "71baba5a",
   "metadata": {},
   "outputs": [
    {
     "name": "stdout",
     "output_type": "stream",
     "text": [
      "Current Value:  12.607309490098444\n",
      "Current Point:  158.9442525791263\n"
     ]
    }
   ],
   "source": [
    "print(\"Current Value: \", result[0])\n",
    "print(\"Current Point: \", result[1])"
   ]
  },
  {
   "cell_type": "code",
   "execution_count": 191,
   "id": "c88bb2de",
   "metadata": {},
   "outputs": [],
   "source": [
    "import random\n",
    "def objective_function(x):\n",
    "    if x<=10 and x>=-10:\n",
    "        return x\n",
    "    else: return -100\n",
    "\n",
    "def Hill_Climbing_Search(starting_point,step_size,max_iteration):\n",
    "    current_point = starting_point\n",
    "    current_value = objective_function(current_point)\n",
    "    for i in range(max_iteration):\n",
    "        neighbour = current_point + step_size*(random.randint(-10,10))\n",
    "        neighbour_value = objective_function(neighbour)\n",
    "        if(neighbour_value < current_value) and neighbour_value!=-100:\n",
    "            current_point = neighbour\n",
    "            current_value = neighbour_value\n",
    "    return [current_point,current_value]"
   ]
  },
  {
   "cell_type": "code",
   "execution_count": 194,
   "id": "ee42e557",
   "metadata": {},
   "outputs": [
    {
     "name": "stdout",
     "output_type": "stream",
     "text": [
      "Current Value:  -10.0\n",
      "Current Point:  -10.0\n"
     ]
    }
   ],
   "source": [
    "result = Hill_Climbing_Search(-9,0.5,50)\n",
    "print(\"Current Value: \", result[0])\n",
    "print(\"Current Point: \", result[1])"
   ]
  },
  {
   "cell_type": "code",
   "execution_count": null,
   "id": "de46d029",
   "metadata": {},
   "outputs": [],
   "source": []
  },
  {
   "cell_type": "code",
   "execution_count": null,
   "id": "5da4d8b1",
   "metadata": {},
   "outputs": [],
   "source": []
  }
 ],
 "metadata": {
  "kernelspec": {
   "display_name": "Python 3 (ipykernel)",
   "language": "python",
   "name": "python3"
  },
  "language_info": {
   "codemirror_mode": {
    "name": "ipython",
    "version": 3
   },
   "file_extension": ".py",
   "mimetype": "text/x-python",
   "name": "python",
   "nbconvert_exporter": "python",
   "pygments_lexer": "ipython3",
   "version": "3.10.6"
  }
 },
 "nbformat": 4,
 "nbformat_minor": 5
}
