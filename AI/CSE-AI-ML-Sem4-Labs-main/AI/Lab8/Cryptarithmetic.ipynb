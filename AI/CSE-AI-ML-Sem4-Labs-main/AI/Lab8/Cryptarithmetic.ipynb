{
 "cells": [
  {
   "cell_type": "code",
   "execution_count": 37,
   "id": "e0b8fcc1",
   "metadata": {},
   "outputs": [],
   "source": [
    "def solve(arr, i, j, nums, goal, char):\n",
    "    if i == len(arr):\n",
    "        word = goal\n",
    "    else:\n",
    "        word = arr[i]\n",
    "    if j == len(word):\n",
    "        if i == len(arr):\n",
    "            return sum(nums[:-1]) == nums[-1]\n",
    "        else:\n",
    "            return solve(arr, i+1, 0, nums, goal, char)\n",
    "    c = word[j]\n",
    "    if j == 0:\n",
    "        nums.append(0)\n",
    "    if c in char.keys():\n",
    "        if j == 0 and char[c] == 0:\n",
    "            nums.pop()\n",
    "            return False    \n",
    "        nums[i] = nums[i]*10 + char[c]   \n",
    "        if solve(arr, i, j+1, nums, goal, char):\n",
    "            return True\n",
    "        else:\n",
    "            nums[i] = int((nums[i]-char[c]) / 10)\n",
    "    else:\n",
    "        start = 0 if j != 0 else 1\n",
    "        for k in range(start, 10):\n",
    "            if k not in char.values():\n",
    "                char[c] = k\n",
    "                nums[i] = nums[i]*10 + k\n",
    "                \n",
    "                if solve(arr, i, j+1, nums, goal, char):\n",
    "                    return True\n",
    "                else:\n",
    "                    nums[i] = int((nums[i]-k) / 10)\n",
    "                    del char[c]\n",
    "    if j == 0:\n",
    "        nums.pop()     \n",
    "    return False\n",
    "\n",
    "def issolvable(arr, S):\n",
    "    char = dict()\n",
    "    nums = []\n",
    "    if solve(arr, 0, 0, nums, S, char):\n",
    "        for i in range(len(arr)-1):\n",
    "            print(\" %10s      %10d\" % (arr[i], nums[i]))\n",
    "        print(\"+%10s     +%10d\" % (arr[-1], nums[-2]))\n",
    "        print(\"----------------------------\")\n",
    "        print(\" %10s      %10d\" % (S, nums[-1]))\n",
    "    else:\n",
    "        print(\"Cannot be solved\")"
   ]
  },
  {
   "cell_type": "code",
   "execution_count": 28,
   "id": "5538ff45",
   "metadata": {},
   "outputs": [
    {
     "name": "stdout",
     "output_type": "stream",
     "text": [
      "        SIX             650\n",
      "      SEVEN           68782\n",
      "+     SEVEN     +     68782\n",
      "----------------------------\n",
      "     TWENTY          138214\n"
     ]
    }
   ],
   "source": [
    "arr = [\"SIX\", \"SEVEN\", \"SEVEN\"]\n",
    "S = \"TWENTY\"\n",
    "\n",
    "issolvable(arr, S)"
   ]
  },
  {
   "cell_type": "code",
   "execution_count": 35,
   "id": "7cdcdd11",
   "metadata": {},
   "outputs": [
    {
     "name": "stdout",
     "output_type": "stream",
     "text": [
      "       SEND            9567\n",
      "+      MORE     +      1085\n",
      "----------------------------\n",
      "      MONEY           10652\n"
     ]
    }
   ],
   "source": [
    "arr = [\"SEND\", \"MORE\"]\n",
    "S = \"MONEY\"\n",
    "\n",
    "issolvable(arr, S)"
   ]
  },
  {
   "cell_type": "code",
   "execution_count": 30,
   "id": "37852a78",
   "metadata": {},
   "outputs": [
    {
     "name": "stdout",
     "output_type": "stream",
     "text": [
      "      CROSS           96233\n",
      "+     ROADS     +     62513\n",
      "----------------------------\n",
      "     DANGER          158746\n"
     ]
    }
   ],
   "source": [
    "arr = [\"CROSS\", \"ROADS\"]\n",
    "S = \"DANGER\"\n",
    "\n",
    "issolvable(arr, S)"
   ]
  },
  {
   "cell_type": "code",
   "execution_count": 31,
   "id": "a6ad3196",
   "metadata": {},
   "outputs": [
    {
     "name": "stdout",
     "output_type": "stream",
     "text": [
      "Cannot be solved\n"
     ]
    }
   ],
   "source": [
    "arr = [\"MIT\", \"MANIPAL\"]\n",
    "S = \"MITMAHE\"\n",
    "\n",
    "issolvable(arr, S)"
   ]
  },
  {
   "cell_type": "code",
   "execution_count": 34,
   "id": "8ca682d4",
   "metadata": {},
   "outputs": [
    {
     "name": "stdout",
     "output_type": "stream",
     "text": [
      "Cannot be solved\n"
     ]
    }
   ],
   "source": [
    "arr = [\"ABC\", \"DEF\"]\n",
    "S = \"ABC\"\n",
    "\n",
    "issolvable(arr, S)"
   ]
  },
  {
   "cell_type": "code",
   "execution_count": 36,
   "id": "9ae7648e",
   "metadata": {},
   "outputs": [
    {
     "name": "stdout",
     "output_type": "stream",
     "text": [
      "Yes\n"
     ]
    }
   ],
   "source": [
    "def isSolvable(words, result):\n",
    "    mp = [-1]*(26)\n",
    "    used = [0]*(10)\n",
    "    Hash = [0]*(26)\n",
    "    CharAtfront = [0]*(26)\n",
    "    uniq = \"\"\n",
    "    for word in range(len(words)):\n",
    "        for i in range(len(words[word])):\n",
    "            ch = words[word][i]\n",
    "            Hash[ord(ch) - ord('A')] += pow(10, len(words[word])) - i - 1\n",
    "            if mp[ord(ch) - ord('A')] == -1:\n",
    "                mp[ord(ch) - ord('A')] = 0\n",
    "                uniq += str(ch)\n",
    "            if i == 0 and len(words[word]) > 1:\n",
    "                CharAtfront[ord(ch) - ord('A')] = 1\n",
    "    for i in range(len(result)):\n",
    "        ch = result[i]\n",
    "        Hash[ord(ch) - ord('A')] -= pow(10, len(result) - i - 1)\n",
    "        if mp[ord(ch) - ord('A')] == -1:\n",
    "            mp[ord(ch) - ord('A')] = 0\n",
    "            uniq += str(ch)\n",
    "        if i == 0 and len(result) > 1:\n",
    "            CharAtfront[ord(ch) - ord('A')] = 1\n",
    "    mp = [-1]*(26)\n",
    "    return True\n",
    "\n",
    "def solve(words, i, S, mp, used, Hash, CharAtfront):\n",
    "    if i == len(words):\n",
    "        return S == 0\n",
    "    ch = words[i]\n",
    "    val = mp[ord(words[i]) - ord('A')]\n",
    "    if val != -1:\n",
    "        return solve(words, i + 1, S + val * Hash[ord(ch) - ord('A')], mp, used, Hash, CharAtfront)\n",
    "    x = False\n",
    "    for l in range(10):\n",
    "        if CharAtfront[ord(ch) - ord('A')] == 1 and l == 0:\n",
    "            continue\n",
    "        if used[l] == 1:\n",
    "            continue\n",
    "        mp[ord(ch) - ord('A')] = l\n",
    "        used[l] = 1\n",
    "        x |= solve(words, i + 1, S + l * Hash[ord(ch) - ord('A')], mp, used, Hash, CharAtfront)\n",
    "        mp[ord(ch) - ord('A')] = -1\n",
    "        used[l] = 0\n",
    "    return x\n",
    "                                            \n",
    "                                            \n",
    "arr = [ \"ABC\", \"DEF\" ]\n",
    "S = \"ABC\"\n",
    "if isSolvable(arr, S):\n",
    "    print(\"Yes\")\n",
    "else:\n",
    "    print(\"No\")"
   ]
  }
 ],
 "metadata": {
  "kernelspec": {
   "display_name": "Python 3 (ipykernel)",
   "language": "python",
   "name": "python3"
  },
  "language_info": {
   "codemirror_mode": {
    "name": "ipython",
    "version": 3
   },
   "file_extension": ".py",
   "mimetype": "text/x-python",
   "name": "python",
   "nbconvert_exporter": "python",
   "pygments_lexer": "ipython3",
   "version": "3.9.13"
  }
 },
 "nbformat": 4,
 "nbformat_minor": 5
}
