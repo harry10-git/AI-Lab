{
 "cells": [
  {
   "cell_type": "code",
   "execution_count": 11,
   "id": "96d03748",
   "metadata": {},
   "outputs": [
    {
     "name": "stdout",
     "output_type": "stream",
     "text": [
      "Path from initial state to solution state:\n",
      "( 0 , 0 )\n",
      "( 0 , 3 )\n",
      "( 4 , 0 )\n",
      "( 4 , 3 )\n",
      "( 3 , 0 )\n",
      "( 1 , 3 )\n",
      "( 3 , 3 )\n",
      "( 4 , 2 )\n",
      "( 0 , 2 )\n"
     ]
    }
   ],
   "source": [
    "from collections import deque\n",
    "\n",
    "def BFS(a, b, target):\n",
    "    visited = {}\n",
    "    isSolvable = False\n",
    "    path = []\n",
    "    q = deque()\n",
    "    q.append((0, 0))\n",
    "    while (len(q) > 0):\n",
    "        u = q.popleft()\n",
    "        # If this state is already visited\n",
    "        if ((u[0], u[1]) in visited):\n",
    "            continue\n",
    "        if ((u[0] > a or u[1] > b or\n",
    "             u[0] < 0 or u[1] < 0)):\n",
    "            continue\n",
    "        # Filling the vector for constructing the solution path\n",
    "        path.append([u[0], u[1]])\n",
    "        # Marking current state as visited\n",
    "        visited[(u[0], u[1])] = 1\n",
    "        # If we reach solution state, put ans=1\n",
    "        if (u[0] == target or u[1] == target):\n",
    "            isSolvable = True\n",
    "            if (u[0] == target):\n",
    "                if (u[1] != 0):\n",
    "                    # Fill final state\n",
    "                    path.append([u[0], 0])\n",
    "            else:\n",
    "                if (u[0] != 0):\n",
    "                    # Fill final state\n",
    "                    path.append([0, u[1]])\n",
    "            # Print the solution path\n",
    "            sz = len(path)\n",
    "            for i in range(sz):\n",
    "                print(\"(\", path[i][0], \",\", path[i][1], \")\")\n",
    "            break\n",
    "        # If we have not reached final state then, start developing intermediate states to reach solution state\n",
    "        q.append([u[0], b])  # Fill Jug2\n",
    "        q.append([a, u[1]])  # Fill Jug1\n",
    "        for ap in range(max(a, b) + 1):\n",
    "            # Pour amount ap from Jug2 to Jug1\n",
    "            c = u[0] + ap\n",
    "            d = u[1] - ap\n",
    "            # Check if this state is possible or not\n",
    "            if (c == a or (d == 0 and d >= 0)):\n",
    "                q.append([c, d])\n",
    "            # Pour amount ap from Jug 1 to Jug2\n",
    "            c = u[0] - ap\n",
    "            d = u[1] + ap\n",
    "            # Check if this state is possible or not\n",
    "            if ((c == 0 and c >= 0) or d == b):\n",
    "                q.append([c, d])\n",
    "        # Empty Jug2\n",
    "        q.append([a, 0])\n",
    "        # Empty Jug1\n",
    "        q.append([0, b])\n",
    "    # No, solution exists if ans=0\n",
    "    if (not isSolvable):\n",
    "        print(\"No solution\")\n",
    " \n",
    " \n",
    "# Driver code\n",
    "if __name__ == '__main__':\n",
    "    Jug1, Jug2, target = 4,3,2\n",
    "    print(\"Path from initial state to solution state:\")\n",
    "    BFS(Jug1, Jug2, target)"
   ]
  },
  {
   "cell_type": "code",
   "execution_count": null,
   "id": "6a8b5658",
   "metadata": {},
   "outputs": [],
   "source": []
  },
  {
   "cell_type": "code",
   "execution_count": null,
   "id": "6a64f4f0",
   "metadata": {},
   "outputs": [],
   "source": []
  }
 ],
 "metadata": {
  "kernelspec": {
   "display_name": "Python 3 (ipykernel)",
   "language": "python",
   "name": "python3"
  },
  "language_info": {
   "codemirror_mode": {
    "name": "ipython",
    "version": 3
   },
   "file_extension": ".py",
   "mimetype": "text/x-python",
   "name": "python",
   "nbconvert_exporter": "python",
   "pygments_lexer": "ipython3",
   "version": "3.10.6"
  }
 },
 "nbformat": 4,
 "nbformat_minor": 5
}
