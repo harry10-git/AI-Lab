{
 "cells": [
  {
   "cell_type": "code",
   "execution_count": 1,
   "id": "0ba1f565",
   "metadata": {},
   "outputs": [
    {
     "name": "stdout",
     "output_type": "stream",
     "text": [
      "Solution found:\n",
      "(0, 0)\n",
      "(4, 0)\n",
      "(4, 3)\n",
      "(0, 3)\n",
      "(3, 0)\n",
      "(3, 3)\n",
      "(4, 2)\n",
      "(0, 2)\n",
      "(2, 0)\n"
     ]
    }
   ],
   "source": [
    "def dfs(start, target, jugs, visited):\n",
    "    if start == target:\n",
    "        return [target]\n",
    "    visited.append(start)\n",
    "    for move in get_moves(start, jugs):\n",
    "        if move not in visited:\n",
    "            path = dfs(move, target, jugs, visited)\n",
    "            if path:\n",
    "                return [start] \n",
    "    return None\n",
    "\n",
    "def get_moves(state, jugs):\n",
    "    moves = []\n",
    "    a, b = state  \n",
    "    # Fill jug A\n",
    "    moves.append((jugs[0], b)) \n",
    "    # Fill jug B\n",
    "    moves.append((a, jugs[1]))  \n",
    "    # Empty jug A\n",
    "    moves.append((0, b))    \n",
    "    # Empty jug B\n",
    "    moves.append((a, 0))\n",
    "    # Pour from A to B\n",
    "    amount = min(a, jugs[1]-b)\n",
    "    moves.append((a-amount, b+amount))    \n",
    "    # Pour from B to A\n",
    "    amount = min(jugs[0]-a, b)\n",
    "    moves.append((a+amount, b-amount))\n",
    "    return moves\n",
    "\n",
    "# Example usage\n",
    "start = (0, 0)\n",
    "target = (0, 2)\n",
    "jugs = (4, 3)\n",
    "visited = []\n",
    "\n",
    "path = dfs(start, target, jugs, visited)\n",
    "\n",
    "if path:\n",
    "    print(\"Solution found:\")\n",
    "    for p in path:\n",
    "        print(p)\n",
    "else:\n",
    "    print(\"No solution found.\")\n"
   ]
  },
  {
   "cell_type": "code",
   "execution_count": null,
   "id": "2f56d67b",
   "metadata": {},
   "outputs": [],
   "source": []
  }
 ],
 "metadata": {
  "kernelspec": {
   "display_name": "Python 3 (ipykernel)",
   "language": "python",
   "name": "python3"
  },
  "language_info": {
   "codemirror_mode": {
    "name": "ipython",
    "version": 3
   },
   "file_extension": ".py",
   "mimetype": "text/x-python",
   "name": "python",
   "nbconvert_exporter": "python",
   "pygments_lexer": "ipython3",
   "version": "3.10.6"
  }
 },
 "nbformat": 4,
 "nbformat_minor": 5
}
